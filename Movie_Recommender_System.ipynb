{
  "cells": [
    {
      "cell_type": "markdown",
      "metadata": {
        "id": "GNMb_Jr_1vYl"
      },
      "source": [
        "# Import libraries"
      ]
    },
    {
      "cell_type": "code",
      "source": [
        "#pip install pyspark"
      ],
      "metadata": {
        "id": "SNwGtOEs6VN_"
      },
      "execution_count": null,
      "outputs": []
    },
    {
      "cell_type": "code",
      "execution_count": null,
      "metadata": {
        "id": "7_M0zD2b1vYv"
      },
      "outputs": [],
      "source": [
        "from pyspark.sql import SparkSession\n",
        "spark = SparkSession.builder.appName(\"Recommender System\").config(\"spark.sql.crossJoin.enabled\",\"true\").getOrCreate()"
      ]
    },
    {
      "cell_type": "code",
      "execution_count": null,
      "metadata": {
        "id": "HgkYWFDq1vYz"
      },
      "outputs": [],
      "source": [
        "from pyspark.ml.recommendation import ALS\n",
        "from pyspark.ml.evaluation import RegressionEvaluator\n",
        "from pyspark.ml.feature import VectorAssembler\n",
        "from pyspark.sql import functions as f"
      ]
    },
    {
      "cell_type": "markdown",
      "metadata": {
        "id": "Q13u5SJJ1vY0"
      },
      "source": [
        "# Load and verify data"
      ]
    },
    {
      "cell_type": "code",
      "execution_count": null,
      "metadata": {
        "id": "_LPi8IRy1vY1"
      },
      "outputs": [],
      "source": [
        "from pyspark.sql.types import StringType, DoubleType, IntegerType, StructType, StructField\n",
        "schema = StructType([StructField('userId', IntegerType(), True),\n",
        "                     StructField('movieId', IntegerType(), True),\n",
        "                     StructField('rating', IntegerType(), True),\n",
        "                     StructField('timestamp', DoubleType(), True)])\n"
      ]
    },
    {
      "cell_type": "code",
      "execution_count": null,
      "metadata": {
        "id": "kRXhlulP1vY2"
      },
      "outputs": [],
      "source": [
        "data = spark.read.csv('ratings.dat',sep = '::', header = False, schema = schema)\n",
        "# Data taken from https://grouplens.org/datasets/movielens/1m/"
      ]
    },
    {
      "cell_type": "code",
      "execution_count": null,
      "metadata": {
        "colab": {
          "base_uri": "https://localhost:8080/"
        },
        "id": "Omm6MpRH1vY4",
        "outputId": "9306af85-e461-478c-cfb9-b3a9a5af9718"
      },
      "outputs": [
        {
          "output_type": "stream",
          "name": "stdout",
          "text": [
            "root\n",
            " |-- userId: integer (nullable = true)\n",
            " |-- movieId: integer (nullable = true)\n",
            " |-- rating: integer (nullable = true)\n",
            " |-- timestamp: double (nullable = true)\n",
            "\n"
          ]
        }
      ],
      "source": [
        "data.printSchema()"
      ]
    },
    {
      "cell_type": "code",
      "execution_count": null,
      "metadata": {
        "colab": {
          "base_uri": "https://localhost:8080/"
        },
        "id": "KZLksqpg1vY7",
        "outputId": "c845925e-0eb3-4fa4-bab7-4c9a9746fe23"
      },
      "outputs": [
        {
          "output_type": "execute_result",
          "data": {
            "text/plain": [
              "[Row(userId=1, movieId=1193, rating=5, timestamp=978300760.0),\n",
              " Row(userId=1, movieId=661, rating=3, timestamp=978302109.0),\n",
              " Row(userId=1, movieId=914, rating=3, timestamp=978301968.0)]"
            ]
          },
          "metadata": {},
          "execution_count": 10
        }
      ],
      "source": [
        "data.head(3)"
      ]
    },
    {
      "cell_type": "code",
      "execution_count": null,
      "metadata": {
        "colab": {
          "base_uri": "https://localhost:8080/"
        },
        "id": "6NgSzicB1vY-",
        "outputId": "e89a2f1d-166f-47ce-9a76-752246824d87"
      },
      "outputs": [
        {
          "output_type": "stream",
          "name": "stdout",
          "text": [
            "1\n",
            "1193\n",
            "5\n",
            "978300760.0\n"
          ]
        }
      ],
      "source": [
        "for item in data.head(1)[0]:\n",
        "    print(item)"
      ]
    },
    {
      "cell_type": "code",
      "execution_count": null,
      "metadata": {
        "colab": {
          "base_uri": "https://localhost:8080/"
        },
        "id": "Ufc-PPk21vZA",
        "outputId": "9d8fdc8d-af65-4d59-9f1c-2be51b56124d"
      },
      "outputs": [
        {
          "output_type": "execute_result",
          "data": {
            "text/plain": [
              "['userId', 'movieId', 'rating', 'timestamp']"
            ]
          },
          "metadata": {},
          "execution_count": 12
        }
      ],
      "source": [
        "data.columns"
      ]
    },
    {
      "cell_type": "code",
      "execution_count": null,
      "metadata": {
        "colab": {
          "base_uri": "https://localhost:8080/"
        },
        "id": "DV7K1XSk1vZB",
        "outputId": "b6c8ea05-e33e-42bb-a22a-93730b0d2d02"
      },
      "outputs": [
        {
          "output_type": "stream",
          "name": "stdout",
          "text": [
            "+-------+------------------+------------------+------------------+--------------------+\n",
            "|summary|            userId|           movieId|            rating|           timestamp|\n",
            "+-------+------------------+------------------+------------------+--------------------+\n",
            "|  count|            769087|            769087|            769087|              769087|\n",
            "|   mean|2332.4967331394237|1879.2739898086952|3.5693699152371576| 9.747231800665334E8|\n",
            "| stddev|1326.6839275368804| 1104.108134693938| 1.119513046863757|1.0933486896116085E7|\n",
            "|    min|                 1|                 1|                 1|        9.64384455E8|\n",
            "|    max|              4579|              3952|                 5|       1.046393499E9|\n",
            "+-------+------------------+------------------+------------------+--------------------+\n",
            "\n"
          ]
        }
      ],
      "source": [
        "data.describe().show()"
      ]
    },
    {
      "cell_type": "markdown",
      "metadata": {
        "id": "-uGCEX331vZC"
      },
      "source": [
        "# Train Test split"
      ]
    },
    {
      "cell_type": "code",
      "execution_count": null,
      "metadata": {
        "id": "StoQZjdh1vZD"
      },
      "outputs": [],
      "source": [
        "train_data,test_data = data.randomSplit([0.7,0.3])"
      ]
    },
    {
      "cell_type": "code",
      "execution_count": null,
      "metadata": {
        "colab": {
          "base_uri": "https://localhost:8080/"
        },
        "id": "ZQPGHk_t1vZD",
        "outputId": "08d74bc5-89d2-41e8-c71c-4abeecb5d0c6"
      },
      "outputs": [
        {
          "output_type": "stream",
          "name": "stdout",
          "text": [
            "+-------+------------------+------------------+-----------------+-------------------+\n",
            "|summary|            userId|           movieId|           rating|          timestamp|\n",
            "+-------+------------------+------------------+-----------------+-------------------+\n",
            "|  count|            537697|            537697|           537697|             537697|\n",
            "|   mean|  2332.92298264636|1880.8771575813143|3.567907204243282|9.747217079465033E8|\n",
            "| stddev|1326.8470208291915| 1104.357293903732|1.120196636856997|1.092769448377752E7|\n",
            "|    min|                 1|                 1|                1|       9.64384455E8|\n",
            "|    max|              4579|              3952|                5|      1.046393499E9|\n",
            "+-------+------------------+------------------+-----------------+-------------------+\n",
            "\n"
          ]
        }
      ],
      "source": [
        "train_data.describe().show()"
      ]
    },
    {
      "cell_type": "code",
      "execution_count": null,
      "metadata": {
        "colab": {
          "base_uri": "https://localhost:8080/"
        },
        "id": "mGk48z4G1vZF",
        "outputId": "576c94db-fafe-43d1-d6f8-edcb68153f34"
      },
      "outputs": [
        {
          "output_type": "stream",
          "name": "stdout",
          "text": [
            "+-------+------------------+------------------+-----------------+--------------------+\n",
            "|summary|            userId|           movieId|           rating|           timestamp|\n",
            "+-------+------------------+------------------+-----------------+--------------------+\n",
            "|  count|            231390|            231390|           231390|              231390|\n",
            "|   mean|  2331.50622758114|1875.5485976057737|3.572768918276503| 9.747266009340032E8|\n",
            "| stddev|1326.3071965222293|1103.5223201739313|1.117917954765692|1.0946958155504022E7|\n",
            "|    min|                 1|                 1|                1|        9.64385114E8|\n",
            "|    max|              4579|              3952|                5|       1.046351654E9|\n",
            "+-------+------------------+------------------+-----------------+--------------------+\n",
            "\n"
          ]
        }
      ],
      "source": [
        "test_data.describe().show()"
      ]
    },
    {
      "cell_type": "markdown",
      "metadata": {
        "id": "xtmaYkui1vZF"
      },
      "source": [
        "# Build Model"
      ]
    },
    {
      "cell_type": "code",
      "execution_count": null,
      "metadata": {
        "id": "IBde-gC91vZF"
      },
      "outputs": [],
      "source": [
        "recommender = ALS(maxIter = 5, regParam = 0.01, userCol='userId', itemCol='movieId', ratingCol='rating')\n",
        "# recommender = ALS(maxIter = 5, regParam = 0.01, userCol='userId', itemCol='movieId', ratingCol='rating', coldStartStrategy=\"drop\")"
      ]
    },
    {
      "cell_type": "code",
      "execution_count": null,
      "metadata": {
        "id": "BaZZkgxH1vZG"
      },
      "outputs": [],
      "source": [
        "model = recommender.fit(train_data)"
      ]
    },
    {
      "cell_type": "markdown",
      "metadata": {
        "id": "tBet5h5F1vZG"
      },
      "source": [
        "# Evaluate Model"
      ]
    },
    {
      "cell_type": "code",
      "execution_count": null,
      "metadata": {
        "id": "uw8amVp61vZG"
      },
      "outputs": [],
      "source": [
        "pred_data = model.transform(test_data)"
      ]
    },
    {
      "cell_type": "code",
      "execution_count": null,
      "metadata": {
        "colab": {
          "base_uri": "https://localhost:8080/"
        },
        "id": "mIPzqq-m1vZH",
        "outputId": "5311b002-2f55-4c61-837c-1122de87a20c"
      },
      "outputs": [
        {
          "output_type": "stream",
          "name": "stdout",
          "text": [
            "+------+-------+------+------------+----------+\n",
            "|userId|movieId|rating|   timestamp|prediction|\n",
            "+------+-------+------+------------+----------+\n",
            "|     1|   1721|     4|9.78300055E8|  5.143253|\n",
            "|     1|   2797|     4|9.78302039E8| 4.1459026|\n",
            "|     1|   2294|     4|9.78824291E8| 4.1674776|\n",
            "|     1|   2018|     4|9.78301777E8|  5.086158|\n",
            "|     1|   2804|     5|9.78300719E8|  4.121637|\n",
            "|     1|   2692|     4| 9.7830157E8| 3.2970908|\n",
            "|     1|   2791|     4|9.78302188E8| 3.4589617|\n",
            "|     2|    292|     3|9.78300123E8|  3.572881|\n",
            "|     1|   1029|     5|9.78302205E8|  4.635245|\n",
            "|     2|    163|     4|9.78299809E8| 2.6820014|\n",
            "|     1|   1035|     5|9.78301753E8|  4.731936|\n",
            "|     1|   1545|     4|9.78824139E8|  3.519789|\n",
            "|     2|    380|     5|9.78299809E8| 3.6033304|\n",
            "|     2|    434|     2|9.78300174E8| 3.0063083|\n",
            "|     1|    938|     4|9.78301752E8| 4.1122117|\n",
            "|     2|    356|     5|9.78299686E8| 4.5251327|\n",
            "|     1|   2321|     3|9.78302205E8| 3.3810415|\n",
            "|     1|   1907|     4| 9.7882433E8|  4.520581|\n",
            "|     1|    150|     5|9.78301777E8| 4.2966247|\n",
            "|     2|    110|     5|9.78298625E8| 4.2601385|\n",
            "+------+-------+------+------------+----------+\n",
            "only showing top 20 rows\n",
            "\n"
          ]
        }
      ],
      "source": [
        "pred_data.show()"
      ]
    },
    {
      "cell_type": "code",
      "execution_count": null,
      "metadata": {
        "colab": {
          "base_uri": "https://localhost:8080/"
        },
        "id": "O5f44tx11vZH",
        "outputId": "c15f8e13-ef8a-4df5-d261-68957894d691"
      },
      "outputs": [
        {
          "output_type": "stream",
          "name": "stdout",
          "text": [
            "Root-mean-square error = nan\n"
          ]
        }
      ],
      "source": [
        "evaluator = RegressionEvaluator(metricName='rmse',labelCol='rating',predictionCol='prediction')\n",
        "print(\"Root-mean-square error = \" + str(evaluator.evaluate(pred_data)))"
      ]
    },
    {
      "cell_type": "code",
      "execution_count": null,
      "metadata": {
        "id": "C-B7DDbu1vZI"
      },
      "outputs": [],
      "source": [
        "# A NaN result is due to SPARK-14489 and because the model can't predict values for users for which there's no data.\n",
        "# A temporary workaround is to exclude rows with predicted NaN values or to replace them with a constant, for instance,\n",
        "# the general mean rating. However, to map to a real business problem, the data scientist, in collaboration with the\n",
        "# business owner, must define what happens if such an event occurs. For example, you can provide no recommendation for\n",
        "# a user until that user rates a few items. Alternatively, before user rates five items, you can use a user-based recommender\n",
        "# system that's based on the user's profile (that's another recommender system to develop).\n",
        "\n",
        "# Replace predicted NaN values with the average rating and evaluate the model:"
      ]
    },
    {
      "cell_type": "code",
      "execution_count": null,
      "metadata": {
        "colab": {
          "base_uri": "https://localhost:8080/"
        },
        "id": "3LcHS_qr1vZI",
        "outputId": "18a5dc4d-7a28-4af1-b04b-5b45c0ce48b2"
      },
      "outputs": [
        {
          "output_type": "stream",
          "name": "stdout",
          "text": [
            "The average rating in the dataset is: 3.5693699152371576\n"
          ]
        }
      ],
      "source": [
        "avgRatings = data.select('rating').groupBy().avg().first()[0]\n",
        "print ('The average rating in the dataset is: {}'.format(avgRatings))"
      ]
    },
    {
      "cell_type": "code",
      "execution_count": null,
      "metadata": {
        "colab": {
          "base_uri": "https://localhost:8080/"
        },
        "id": "uQ8ubo7Q1vZJ",
        "outputId": "f8fda116-ab8b-4d95-9520-197fc2dad265"
      },
      "outputs": [
        {
          "output_type": "stream",
          "name": "stdout",
          "text": [
            "The root mean squared error for our model is: 0.9185122992096438\n"
          ]
        }
      ],
      "source": [
        "evaluator = RegressionEvaluator(metricName='rmse', labelCol='rating', predictionCol='prediction')\n",
        "print ('The root mean squared error for our model is: {}'.format(evaluator.evaluate(pred_data.na.fill(avgRatings))))"
      ]
    },
    {
      "cell_type": "code",
      "execution_count": null,
      "metadata": {
        "id": "gZqz5T2K1vZJ"
      },
      "outputs": [],
      "source": [
        "# Now exclude predicted NaN values and evaluate the model:"
      ]
    },
    {
      "cell_type": "code",
      "execution_count": null,
      "metadata": {
        "colab": {
          "base_uri": "https://localhost:8080/"
        },
        "id": "E9CK-d391vZK",
        "outputId": "91326e39-4f9f-4541-b665-2305e3518875"
      },
      "outputs": [
        {
          "output_type": "stream",
          "name": "stdout",
          "text": [
            "The root mean squared error for our model is: 0.9183040628504067\n"
          ]
        }
      ],
      "source": [
        "evaluator = RegressionEvaluator(metricName='rmse', labelCol='rating', predictionCol='prediction')\n",
        "print ('The root mean squared error for our model is: {}'.format(evaluator.evaluate(pred_data.na.drop())))"
      ]
    },
    {
      "cell_type": "markdown",
      "metadata": {
        "id": "9ZqkJoUL1vZK"
      },
      "source": [
        "# Define Movie details"
      ]
    },
    {
      "cell_type": "code",
      "execution_count": null,
      "metadata": {
        "colab": {
          "base_uri": "https://localhost:8080/"
        },
        "id": "cajT1kSm1vZK",
        "outputId": "c89ea716-83a0-473f-8035-62dbe112e35e"
      },
      "outputs": [
        {
          "output_type": "stream",
          "name": "stdout",
          "text": [
            "root\n",
            " |-- movieId: integer (nullable = true)\n",
            " |-- title: string (nullable = true)\n",
            " |-- genres: string (nullable = true)\n",
            "\n"
          ]
        }
      ],
      "source": [
        "schema = StructType([StructField('movieId', IntegerType(), True),\n",
        "                     StructField('title', StringType(), True),\n",
        "                     StructField('genres', StringType(), True)])\n",
        "movieDetails = spark.read.csv('movies.dat',sep = '::', header = False, schema = schema)\n",
        "movieDetails.printSchema()"
      ]
    },
    {
      "cell_type": "code",
      "execution_count": null,
      "metadata": {
        "colab": {
          "base_uri": "https://localhost:8080/"
        },
        "id": "P_16Y1hI1vZL",
        "outputId": "e04dcd1f-763b-4148-b534-dc336f928229"
      },
      "outputs": [
        {
          "output_type": "execute_result",
          "data": {
            "text/plain": [
              "[Row(movieId=1, title='Toy Story (1995)', genres=\"Animation|Children's|Comedy\"),\n",
              " Row(movieId=2, title='Jumanji (1995)', genres=\"Adventure|Children's|Fantasy\"),\n",
              " Row(movieId=3, title='Grumpier Old Men (1995)', genres='Comedy|Romance')]"
            ]
          },
          "metadata": {},
          "execution_count": 28
        }
      ],
      "source": [
        "movieDetails.head(3)"
      ]
    },
    {
      "cell_type": "code",
      "execution_count": null,
      "metadata": {
        "colab": {
          "base_uri": "https://localhost:8080/"
        },
        "id": "TINYQ2fJ1vZM",
        "outputId": "07b0144c-363d-4e88-d910-852fcbbf5a96"
      },
      "outputs": [
        {
          "output_type": "stream",
          "name": "stdout",
          "text": [
            "root\n",
            " |-- UserID: integer (nullable = true)\n",
            " |-- Gender: string (nullable = true)\n",
            " |-- Age: integer (nullable = true)\n",
            " |-- Occupation: integer (nullable = true)\n",
            " |-- Zipcode: integer (nullable = true)\n",
            "\n"
          ]
        }
      ],
      "source": [
        "schema = StructType([StructField('UserID', IntegerType(), True),\n",
        "                     StructField('Gender', StringType(), True),\n",
        "                     StructField('Age', IntegerType(), True),\n",
        "                     StructField('Occupation', IntegerType(), True),\n",
        "                     StructField('Zipcode', IntegerType(), True)])\n",
        "occupation ={\n",
        "  0:  \"other\",\n",
        "  1:  \"academic/educator\",\n",
        "  2:  \"artist\",\n",
        "  3:  \"clerical/admin\",\n",
        "  4:  \"college/grad student\",\n",
        "  5:  \"customer service\",\n",
        "  6:  \"doctor/health care\",\n",
        "  7:  \"executive/managerial\",\n",
        "  8:  \"farmer\",\n",
        "  9:  \"homemaker\",\n",
        " 10:  \"K-12 student\",\n",
        " 11:  \"lawyer\",\n",
        " 12:  \"programmer\",\n",
        " 13:  \"retired\",\n",
        " 14:  \"sales/marketing\",\n",
        " 15:  \"scientist\",\n",
        " 16:  \"self-employed\",\n",
        " 17:  \"technician/engineer\",\n",
        " 18:  \"tradesman/craftsman\",\n",
        " 19:  \"unemployed\",\n",
        " 20:  \"writer\"\n",
        "\n",
        "}\n",
        "userDetails = spark.read.csv('users.dat',sep = '::', header = False, schema = schema)\n",
        "userDetails.printSchema()"
      ]
    },
    {
      "cell_type": "code",
      "execution_count": null,
      "metadata": {
        "colab": {
          "base_uri": "https://localhost:8080/"
        },
        "id": "99d2DhRB1vZM",
        "outputId": "e82554f2-23a1-4e70-ba82-ed04c1a9a38c"
      },
      "outputs": [
        {
          "output_type": "execute_result",
          "data": {
            "text/plain": [
              "[Row(UserID=1, Gender='F', Age=1, Occupation=10, Zipcode=48067),\n",
              " Row(UserID=2, Gender='M', Age=56, Occupation=16, Zipcode=70072),\n",
              " Row(UserID=3, Gender='M', Age=25, Occupation=15, Zipcode=55117)]"
            ]
          },
          "metadata": {},
          "execution_count": 30
        }
      ],
      "source": [
        "userDetails.head(3)"
      ]
    },
    {
      "cell_type": "markdown",
      "metadata": {
        "id": "rp94WnSs1vZN"
      },
      "source": [
        "# Movie recommendations"
      ]
    },
    {
      "cell_type": "code",
      "execution_count": null,
      "metadata": {
        "colab": {
          "base_uri": "https://localhost:8080/"
        },
        "id": "wUj5rkOm1vZO",
        "outputId": "0f24d6e6-b00e-4ca7-b3db-67f7f2b0d48d"
      },
      "outputs": [
        {
          "output_type": "stream",
          "name": "stdout",
          "text": [
            "+------+--------------------+\n",
            "|userId|     recommendations|\n",
            "+------+--------------------+\n",
            "|     1|[{2913, 10.849915...|\n",
            "|     3|[{2874, 7.6534467...|\n",
            "|     5|[{659, 6.7760086}...|\n",
            "|     6|[{2305, 8.729602}...|\n",
            "|     9|[{862, 6.222961},...|\n",
            "|    12|[{862, 12.147653}...|\n",
            "|    13|[{1749, 6.6426344...|\n",
            "|    15|[{1749, 5.922634}...|\n",
            "|    16|[{1471, 11.969424...|\n",
            "|    17|[{2964, 6.4469056...|\n",
            "|    19|[{1749, 8.616003}...|\n",
            "|    20|[{411, 8.306289},...|\n",
            "|    22|[{2964, 5.8524256...|\n",
            "|    26|[{3885, 6.9804587...|\n",
            "|    27|[{3531, 8.415962}...|\n",
            "|    28|[{1046, 5.6865506...|\n",
            "|    31|[{2809, 8.148663}...|\n",
            "|    34|[{980, 9.069587},...|\n",
            "|    35|[{3531, 6.024864}...|\n",
            "|    37|[{3349, 9.12696},...|\n",
            "+------+--------------------+\n",
            "only showing top 20 rows\n",
            "\n"
          ]
        }
      ],
      "source": [
        "# Generate top 10 movie recommendations for each user\n",
        "userRecs = model.recommendForAllUsers(10)\n",
        "userRecs.show()"
      ]
    },
    {
      "cell_type": "code",
      "execution_count": null,
      "metadata": {
        "colab": {
          "base_uri": "https://localhost:8080/"
        },
        "id": "6mDCAQOa1vZO",
        "outputId": "70785bc6-745a-4b18-93d0-163567f96c33"
      },
      "outputs": [
        {
          "output_type": "stream",
          "name": "stdout",
          "text": [
            "+------+-----------------+\n",
            "|userId|              col|\n",
            "+------+-----------------+\n",
            "|     1|{2913, 10.849915}|\n",
            "|     1|  {1715, 8.61826}|\n",
            "|     1| {2626, 8.278925}|\n",
            "|     1|  {598, 7.550913}|\n",
            "|     1|{1117, 7.2084966}|\n",
            "|     1|{1317, 7.1806145}|\n",
            "|     1| {3106, 7.141319}|\n",
            "|     1|{1651, 7.0557613}|\n",
            "|     1| {1529, 6.996839}|\n",
            "|     1|{2998, 6.9615116}|\n",
            "|     2|{2913, 6.4855647}|\n",
            "|     2|{3456, 6.2140985}|\n",
            "|     2|  {824, 6.183017}|\n",
            "|     2|{3913, 6.1469707}|\n",
            "|     2|{1117, 5.8745103}|\n",
            "|     2| {2800, 5.792125}|\n",
            "|     2|{2257, 5.7253056}|\n",
            "|     2|{1715, 5.6650496}|\n",
            "|     2|   {572, 5.65858}|\n",
            "|     2|{1749, 5.6473136}|\n",
            "+------+-----------------+\n",
            "only showing top 20 rows\n",
            "\n"
          ]
        }
      ],
      "source": [
        "userRecsExplode = userRecs.select(userRecs.userId,f.explode(userRecs.recommendations)).orderBy(userRecs.userId)\n",
        "userRecsExplode.show()"
      ]
    },
    {
      "cell_type": "code",
      "execution_count": null,
      "metadata": {
        "colab": {
          "base_uri": "https://localhost:8080/"
        },
        "id": "R8yyXK_Q1vZO",
        "outputId": "8822010b-8def-4940-94d7-00c29663c4f7"
      },
      "outputs": [
        {
          "output_type": "stream",
          "name": "stdout",
          "text": [
            "+-------+--------------------+--------------------+--------------------+\n",
            "|movieId|               title|              genres|     recommendations|\n",
            "+-------+--------------------+--------------------+--------------------+\n",
            "|      1|    Toy Story (1995)|Animation|Childre...|[{2269, 5.8271937...|\n",
            "|      3|Grumpier Old Men ...|      Comedy|Romance|[{1070, 6.285731}...|\n",
            "|      5|Father of the Bri...|              Comedy|[{4419, 7.8553452...|\n",
            "|      6|         Heat (1995)|Action|Crime|Thri...|[{3149, 6.155888}...|\n",
            "|      9| Sudden Death (1995)|              Action|[{1213, 7.5812917...|\n",
            "|     12|Dracula: Dead and...|       Comedy|Horror|[{1664, 8.210773}...|\n",
            "|     13|        Balto (1995)|Animation|Children's|[{2432, 6.6584587...|\n",
            "|     15|Cutthroat Island ...|Action|Adventure|...|[{1070, 8.677435}...|\n",
            "|     16|       Casino (1995)|      Drama|Thriller|[{745, 7.294376},...|\n",
            "|     17|Sense and Sensibi...|       Drama|Romance|[{1213, 6.6665998...|\n",
            "|     19|Ace Ventura: When...|              Comedy|[{3932, 6.2367477...|\n",
            "|     20|  Money Train (1995)|              Action|[{745, 7.31249}, ...|\n",
            "|     22|      Copycat (1995)|Crime|Drama|Thriller|[{4427, 6.8333325...|\n",
            "|     26|      Othello (1995)|               Drama|[{2432, 9.791223}...|\n",
            "|     27| Now and Then (1995)|               Drama|[{2133, 10.584681...|\n",
            "|     28|   Persuasion (1995)|             Romance|[{4383, 8.282988}...|\n",
            "|     31|Dangerous Minds (...|               Drama|[{1070, 9.393767}...|\n",
            "|     34|         Babe (1995)|Children's|Comedy...|[{4441, 6.377274}...|\n",
            "|     35|   Carrington (1995)|       Drama|Romance|[{89, 9.40354}, {...|\n",
            "|     37|Across the Sea of...|         Documentary|[{1596, 10.557567...|\n",
            "+-------+--------------------+--------------------+--------------------+\n",
            "only showing top 20 rows\n",
            "\n"
          ]
        }
      ],
      "source": [
        "# Generate top 10 user recommendations for each movie\n",
        "movieRecs = model.recommendForAllItems(10)\n",
        "movieRecs.join(movieDetails,movieRecs.movieId==movieDetails.movieId,\"left\").select([movieRecs.movieId,movieDetails.title,movieDetails.genres,movieRecs.recommendations]).show()"
      ]
    },
    {
      "cell_type": "code",
      "execution_count": null,
      "metadata": {
        "colab": {
          "base_uri": "https://localhost:8080/"
        },
        "id": "a-YbIzmA1vZP",
        "outputId": "cffc3cc8-e76c-4032-d9b9-97384d1e9801"
      },
      "outputs": [
        {
          "output_type": "stream",
          "name": "stdout",
          "text": [
            "+-------+--------------------+--------------------+-----------------+\n",
            "|movieId|               title|              genres|   recommendation|\n",
            "+-------+--------------------+--------------------+-----------------+\n",
            "|      1|    Toy Story (1995)|Animation|Childre...|{2269, 5.8271937}|\n",
            "|      1|    Toy Story (1995)|Animation|Childre...|{2534, 5.8148546}|\n",
            "|      1|    Toy Story (1995)|Animation|Childre...| {4143, 5.787467}|\n",
            "|      1|    Toy Story (1995)|Animation|Childre...| {1414, 5.694665}|\n",
            "|      1|    Toy Story (1995)|Animation|Childre...|{1190, 5.6699004}|\n",
            "|      1|    Toy Story (1995)|Animation|Childre...| {4166, 5.640699}|\n",
            "|      1|    Toy Story (1995)|Animation|Childre...| {3204, 5.597963}|\n",
            "|      1|    Toy Story (1995)|Animation|Childre...|{2432, 5.5800285}|\n",
            "|      1|    Toy Story (1995)|Animation|Childre...| {2412, 5.578589}|\n",
            "|      1|    Toy Story (1995)|Animation|Childre...|{1039, 5.5421066}|\n",
            "|      3|Grumpier Old Men ...|      Comedy|Romance| {1070, 6.285731}|\n",
            "|      3|Grumpier Old Men ...|      Comedy|Romance|{3404, 5.9100485}|\n",
            "|      3|Grumpier Old Men ...|      Comedy|Romance|  {745, 5.802834}|\n",
            "|      3|Grumpier Old Men ...|      Comedy|Romance|{2151, 5.7628355}|\n",
            "|      3|Grumpier Old Men ...|      Comedy|Romance|{2141, 5.7606835}|\n",
            "|      3|Grumpier Old Men ...|      Comedy|Romance|  {215, 5.710339}|\n",
            "|      3|Grumpier Old Men ...|      Comedy|Romance| {2697, 5.618737}|\n",
            "|      3|Grumpier Old Men ...|      Comedy|Romance|  {3915, 5.60119}|\n",
            "|      3|Grumpier Old Men ...|      Comedy|Romance|  {775, 5.594038}|\n",
            "|      3|Grumpier Old Men ...|      Comedy|Romance| {4427, 5.560124}|\n",
            "+-------+--------------------+--------------------+-----------------+\n",
            "only showing top 20 rows\n",
            "\n"
          ]
        }
      ],
      "source": [
        "movieRecsExplode = movieRecs.select(movieRecs.movieId,f.explode(movieRecs.recommendations)).orderBy(movieRecs.movieId)\n",
        "movieRecsExplode.join(movieDetails,movieRecsExplode.movieId==movieDetails.movieId,\"left\").select([movieRecsExplode.movieId,movieDetails.title,movieDetails.genres,movieRecsExplode.col.alias('recommendation')]).show()"
      ]
    },
    {
      "cell_type": "code",
      "execution_count": null,
      "metadata": {
        "colab": {
          "base_uri": "https://localhost:8080/"
        },
        "id": "eCjy12Cm1vZP",
        "outputId": "a51fbb6d-f0a9-48b7-923e-9845a07af0fc"
      },
      "outputs": [
        {
          "output_type": "stream",
          "name": "stdout",
          "text": [
            "+------+-------+--------------------+--------------------+\n",
            "|userId|movieId|               title|              genres|\n",
            "+------+-------+--------------------+--------------------+\n",
            "|    11|     36|Dead Man Walking ...|               Drama|\n",
            "|    11|    110|   Braveheart (1995)|    Action|Drama|War|\n",
            "|    11|    333|    Tommy Boy (1995)|              Comedy|\n",
            "|    11|    435|    Coneheads (1993)|       Comedy|Sci-Fi|\n",
            "|    11|    441|Dazed and Confuse...|              Comedy|\n",
            "|    11|    481|   Kalifornia (1993)|      Drama|Thriller|\n",
            "|    11|    531|Secret Garden, Th...|    Children's|Drama|\n",
            "|    11|    543|So I Married an A...|Comedy|Romance|Th...|\n",
            "|    11|    608|        Fargo (1996)|Crime|Drama|Thriller|\n",
            "|    11|    663|Kids in the Hall:...|              Comedy|\n",
            "|    11|    708|Truth About Cats ...|      Comedy|Romance|\n",
            "|    11|   1042|That Thing You Do...|              Comedy|\n",
            "|    11|   1059|William Shakespea...|       Drama|Romance|\n",
            "|    11|   1244|    Manhattan (1979)|Comedy|Drama|Romance|\n",
            "|    11|   1259|  Stand by Me (1986)|Adventure|Comedy|...|\n",
            "|    11|   1265|Groundhog Day (1993)|      Comedy|Romance|\n",
            "|    11|   1278|Young Frankenstei...|       Comedy|Horror|\n",
            "|    11|   1498|Inventing the Abb...|       Drama|Romance|\n",
            "|    11|   1573|     Face/Off (1997)|Action|Sci-Fi|Thr...|\n",
            "|    11|   1673|Boogie Nights (1997)|               Drama|\n",
            "+------+-------+--------------------+--------------------+\n",
            "only showing top 20 rows\n",
            "\n"
          ]
        }
      ],
      "source": [
        "# Generate top 10 movie recommendations for a specified set of users\n",
        "singleUser = test_data.filter(test_data.userId==11).select(['movieId','userId'])\n",
        "singleUser.join(movieDetails,singleUser.movieId==movieDetails.movieId,\"left\").select([singleUser.userId,singleUser.movieId,movieDetails.title,movieDetails.genres]).show()"
      ]
    },
    {
      "cell_type": "code",
      "execution_count": null,
      "metadata": {
        "colab": {
          "base_uri": "https://localhost:8080/"
        },
        "id": "LRp6UZt31vZQ",
        "outputId": "291dcd02-79c1-4dcd-f366-9216dcc5674d"
      },
      "outputs": [
        {
          "output_type": "stream",
          "name": "stdout",
          "text": [
            "+------+--------------------+\n",
            "|userId|     recommendations|\n",
            "+------+--------------------+\n",
            "|    11|[{659, 8.511926},...|\n",
            "+------+--------------------+\n",
            "\n"
          ]
        }
      ],
      "source": [
        "userSubsetRecs = model.recommendForUserSubset(singleUser, 10)\n",
        "userSubsetRecs.show()"
      ]
    },
    {
      "cell_type": "code",
      "execution_count": null,
      "metadata": {
        "colab": {
          "base_uri": "https://localhost:8080/"
        },
        "id": "Fk1SGn4j1vZZ",
        "outputId": "9a110620-0a6a-4149-9182-12c6b22bebb2"
      },
      "outputs": [
        {
          "output_type": "stream",
          "name": "stdout",
          "text": [
            "+------+-----------------+\n",
            "|userId|              col|\n",
            "+------+-----------------+\n",
            "|    11|  {659, 8.511926}|\n",
            "|    11|{3587, 7.4576254}|\n",
            "|    11|{2813, 7.1647534}|\n",
            "|    11|{1846, 7.1045833}|\n",
            "|    11| {103, 6.8451047}|\n",
            "|    11|{3900, 6.7213573}|\n",
            "|    11|{1613, 6.6876445}|\n",
            "|    11|{1450, 6.6132026}|\n",
            "|    11|{1685, 6.4672146}|\n",
            "|    11| {2627, 6.434741}|\n",
            "+------+-----------------+\n",
            "\n"
          ]
        }
      ],
      "source": [
        "userSubsetRecsExplode = userSubsetRecs.select(userSubsetRecs.userId,f.explode(userSubsetRecs.recommendations))\n",
        "userSubsetRecsExplode.show()"
      ]
    },
    {
      "cell_type": "code",
      "execution_count": null,
      "metadata": {
        "colab": {
          "base_uri": "https://localhost:8080/"
        },
        "id": "Ms3B1_QM1vZa",
        "outputId": "7ef476af-eb15-4f40-d933-b44fa56e470a"
      },
      "outputs": [
        {
          "output_type": "stream",
          "name": "stdout",
          "text": [
            "+-------+------+----------+\n",
            "|movieId|userId|prediction|\n",
            "+-------+------+----------+\n",
            "|    333|    11|  4.296135|\n",
            "|    543|    11| 4.1670003|\n",
            "|   1916|    11|  4.134341|\n",
            "|    441|    11| 4.1017694|\n",
            "|   1704|    11|  3.960262|\n",
            "|    608|    11| 3.9440448|\n",
            "|   2329|    11| 3.9005089|\n",
            "|   1265|    11| 3.8445477|\n",
            "|    110|    11|  3.797694|\n",
            "|    481|    11| 3.6844852|\n",
            "|   1259|    11|  3.647805|\n",
            "|   3148|    11|  3.644402|\n",
            "|   1244|    11| 3.5904589|\n",
            "|   2706|    11| 3.5192206|\n",
            "|   2762|    11| 3.4867923|\n",
            "|   1278|    11| 3.4645953|\n",
            "|   1673|    11| 3.4592566|\n",
            "|   2282|    11| 3.4097736|\n",
            "|   2321|    11|  3.393981|\n",
            "|   3174|    11| 3.3334394|\n",
            "+-------+------+----------+\n",
            "only showing top 20 rows\n",
            "\n"
          ]
        }
      ],
      "source": [
        "recommendations = model.transform(singleUser)\n",
        "userRecommendations= recommendations.orderBy('prediction',ascending=False)\n",
        "userRecommendations.show()"
      ]
    },
    {
      "cell_type": "code",
      "execution_count": null,
      "metadata": {
        "colab": {
          "base_uri": "https://localhost:8080/"
        },
        "id": "nsFOSje61vZa",
        "outputId": "8f0e83c5-635c-48b3-e4b2-d48a2c0ae956"
      },
      "outputs": [
        {
          "output_type": "stream",
          "name": "stdout",
          "text": [
            "+------+--------------------+--------------------+----------+\n",
            "|userId|               title|              genres|prediction|\n",
            "+------+--------------------+--------------------+----------+\n",
            "|    11|Dead Man Walking ...|               Drama|  2.851837|\n",
            "|    11|   Braveheart (1995)|    Action|Drama|War|  3.797694|\n",
            "|    11|    Tommy Boy (1995)|              Comedy|  4.296135|\n",
            "|    11|    Coneheads (1993)|       Comedy|Sci-Fi| 1.9362859|\n",
            "|    11|Dazed and Confuse...|              Comedy| 4.1017694|\n",
            "|    11|   Kalifornia (1993)|      Drama|Thriller| 3.6844852|\n",
            "|    11|Secret Garden, Th...|    Children's|Drama| 2.1065564|\n",
            "|    11|So I Married an A...|Comedy|Romance|Th...| 4.1670003|\n",
            "|    11|        Fargo (1996)|Crime|Drama|Thriller| 3.9440448|\n",
            "|    11|Kids in the Hall:...|              Comedy| 2.8981588|\n",
            "|    11|Truth About Cats ...|      Comedy|Romance| 2.2880802|\n",
            "|    11|That Thing You Do...|              Comedy| 2.6426508|\n",
            "|    11|William Shakespea...|       Drama|Romance| 2.9554908|\n",
            "|    11|    Manhattan (1979)|Comedy|Drama|Romance| 3.5904589|\n",
            "|    11|  Stand by Me (1986)|Adventure|Comedy|...|  3.647805|\n",
            "|    11|Groundhog Day (1993)|      Comedy|Romance| 3.8445477|\n",
            "|    11|Young Frankenstei...|       Comedy|Horror| 3.4645953|\n",
            "|    11|Inventing the Abb...|       Drama|Romance| 1.5974032|\n",
            "|    11|     Face/Off (1997)|Action|Sci-Fi|Thr...|   2.03365|\n",
            "|    11|Boogie Nights (1997)|               Drama| 3.4592566|\n",
            "+------+--------------------+--------------------+----------+\n",
            "only showing top 20 rows\n",
            "\n"
          ]
        }
      ],
      "source": [
        "userRecommendations.join(movieDetails,userRecommendations.movieId==movieDetails.movieId,\"left\").select([userRecommendations.userId,movieDetails.title,movieDetails.genres,userRecommendations.prediction]).show()"
      ]
    },
    {
      "cell_type": "code",
      "execution_count": null,
      "metadata": {
        "colab": {
          "base_uri": "https://localhost:8080/"
        },
        "id": "ReUyvPjR1vZa",
        "outputId": "76ba6cfa-a7b8-4056-af70-35d141d7c0b0"
      },
      "outputs": [
        {
          "output_type": "stream",
          "name": "stdout",
          "text": [
            "+-------+----------------+--------------------+------+\n",
            "|movieId|           title|              genres|userId|\n",
            "+-------+----------------+--------------------+------+\n",
            "|      1|Toy Story (1995)|Animation|Childre...|     6|\n",
            "|      1|Toy Story (1995)|Animation|Childre...|     9|\n",
            "|      1|Toy Story (1995)|Animation|Childre...|    44|\n",
            "|      1|Toy Story (1995)|Animation|Childre...|    48|\n",
            "|      1|Toy Story (1995)|Animation|Childre...|    51|\n",
            "|      1|Toy Story (1995)|Animation|Childre...|    56|\n",
            "|      1|Toy Story (1995)|Animation|Childre...|    60|\n",
            "|      1|Toy Story (1995)|Animation|Childre...|    65|\n",
            "|      1|Toy Story (1995)|Animation|Childre...|    76|\n",
            "|      1|Toy Story (1995)|Animation|Childre...|    80|\n",
            "|      1|Toy Story (1995)|Animation|Childre...|    90|\n",
            "|      1|Toy Story (1995)|Animation|Childre...|   114|\n",
            "|      1|Toy Story (1995)|Animation|Childre...|   119|\n",
            "|      1|Toy Story (1995)|Animation|Childre...|   123|\n",
            "|      1|Toy Story (1995)|Animation|Childre...|   131|\n",
            "|      1|Toy Story (1995)|Animation|Childre...|   132|\n",
            "|      1|Toy Story (1995)|Animation|Childre...|   148|\n",
            "|      1|Toy Story (1995)|Animation|Childre...|   150|\n",
            "|      1|Toy Story (1995)|Animation|Childre...|   151|\n",
            "|      1|Toy Story (1995)|Animation|Childre...|   156|\n",
            "+-------+----------------+--------------------+------+\n",
            "only showing top 20 rows\n",
            "\n"
          ]
        }
      ],
      "source": [
        "# Generate top 10 user recommendations for a specified set of movies\n",
        "singleMovie = test_data.filter(test_data.movieId==1).select(['movieId','userId'])\n",
        "singleMovie.join(movieDetails,singleMovie.movieId==movieDetails.movieId,\"left\").select([singleMovie.movieId,movieDetails.title,movieDetails.genres,singleMovie.userId]).show()"
      ]
    },
    {
      "cell_type": "code",
      "execution_count": null,
      "metadata": {
        "colab": {
          "base_uri": "https://localhost:8080/"
        },
        "id": "ACLxIXCP1vZb",
        "outputId": "4f59521c-b78d-4c70-aeaa-c35efb8da54e"
      },
      "outputs": [
        {
          "output_type": "stream",
          "name": "stdout",
          "text": [
            "+-------+----------------+--------------------+--------------------+\n",
            "|movieId|           title|              genres|     recommendations|\n",
            "+-------+----------------+--------------------+--------------------+\n",
            "|      1|Toy Story (1995)|Animation|Childre...|[{2269, 5.8271937...|\n",
            "+-------+----------------+--------------------+--------------------+\n",
            "\n"
          ]
        }
      ],
      "source": [
        "movieSubSetRecs = model.recommendForItemSubset(singleMovie, 10)\n",
        "movieSubSetRecs.join(movieDetails,movieSubSetRecs.movieId==movieDetails.movieId,\"left\").select([movieSubSetRecs.movieId,movieDetails.title,movieDetails.genres,movieSubSetRecs.recommendations]).show()"
      ]
    },
    {
      "cell_type": "code",
      "execution_count": null,
      "metadata": {
        "colab": {
          "base_uri": "https://localhost:8080/"
        },
        "id": "qzHnDoam1vZb",
        "outputId": "36760fff-1be7-487a-e249-e7d5fcd410f4"
      },
      "outputs": [
        {
          "output_type": "stream",
          "name": "stdout",
          "text": [
            "+-------+----------------+--------------------+-----------------+\n",
            "|movieId|           title|              genres|   recommendation|\n",
            "+-------+----------------+--------------------+-----------------+\n",
            "|      1|Toy Story (1995)|Animation|Childre...|{2269, 5.8271937}|\n",
            "|      1|Toy Story (1995)|Animation|Childre...|{2534, 5.8148546}|\n",
            "|      1|Toy Story (1995)|Animation|Childre...| {4143, 5.787467}|\n",
            "|      1|Toy Story (1995)|Animation|Childre...| {1414, 5.694665}|\n",
            "|      1|Toy Story (1995)|Animation|Childre...|{1190, 5.6699004}|\n",
            "|      1|Toy Story (1995)|Animation|Childre...| {4166, 5.640699}|\n",
            "|      1|Toy Story (1995)|Animation|Childre...| {3204, 5.597963}|\n",
            "|      1|Toy Story (1995)|Animation|Childre...|{2432, 5.5800285}|\n",
            "|      1|Toy Story (1995)|Animation|Childre...| {2412, 5.578589}|\n",
            "|      1|Toy Story (1995)|Animation|Childre...|{1039, 5.5421066}|\n",
            "+-------+----------------+--------------------+-----------------+\n",
            "\n"
          ]
        }
      ],
      "source": [
        "movieSubSetRecsExplode = movieSubSetRecs.select(movieSubSetRecs.movieId,f.explode(movieSubSetRecs.recommendations))\n",
        "movieSubSetRecsExplode.join(movieDetails,movieSubSetRecsExplode.movieId==movieDetails.movieId,\"left\").select([movieSubSetRecsExplode.movieId,movieDetails.title,movieDetails.genres,movieSubSetRecsExplode.col.alias('recommendation')]).show()"
      ]
    }
  ],
  "metadata": {
    "kernelspec": {
      "display_name": "Python 3",
      "language": "python",
      "name": "python3"
    },
    "language_info": {
      "codemirror_mode": {
        "name": "ipython",
        "version": 3
      },
      "file_extension": ".py",
      "mimetype": "text/x-python",
      "name": "python",
      "nbconvert_exporter": "python",
      "pygments_lexer": "ipython3",
      "version": "3.8.3"
    },
    "colab": {
      "provenance": []
    }
  },
  "nbformat": 4,
  "nbformat_minor": 0
}